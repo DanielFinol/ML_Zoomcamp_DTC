{
 "cells": [
  {
   "cell_type": "code",
   "execution_count": 79,
   "id": "bbf6e343-7270-4688-a135-087f5a4ef6e0",
   "metadata": {},
   "outputs": [],
   "source": [
    "import pandas as pd\n",
    "import numpy as np"
   ]
  },
  {
   "cell_type": "code",
   "execution_count": 80,
   "id": "9787a237-ad07-4573-8543-a9e3c50146a6",
   "metadata": {},
   "outputs": [
    {
     "data": {
      "text/html": [
       "<div>\n",
       "<style scoped>\n",
       "    .dataframe tbody tr th:only-of-type {\n",
       "        vertical-align: middle;\n",
       "    }\n",
       "\n",
       "    .dataframe tbody tr th {\n",
       "        vertical-align: top;\n",
       "    }\n",
       "\n",
       "    .dataframe thead th {\n",
       "        text-align: right;\n",
       "    }\n",
       "</style>\n",
       "<table border=\"1\" class=\"dataframe\">\n",
       "  <thead>\n",
       "    <tr style=\"text-align: right;\">\n",
       "      <th></th>\n",
       "      <th>engine_displacement</th>\n",
       "      <th>num_cylinders</th>\n",
       "      <th>horsepower</th>\n",
       "      <th>vehicle_weight</th>\n",
       "      <th>acceleration</th>\n",
       "      <th>model_year</th>\n",
       "      <th>num_doors</th>\n",
       "      <th>fuel_efficiency_mpg</th>\n",
       "    </tr>\n",
       "  </thead>\n",
       "  <tbody>\n",
       "    <tr>\n",
       "      <th>count</th>\n",
       "      <td>9704.000000</td>\n",
       "      <td>9222.000000</td>\n",
       "      <td>8996.000000</td>\n",
       "      <td>9704.000000</td>\n",
       "      <td>8774.000000</td>\n",
       "      <td>9704.000000</td>\n",
       "      <td>9202.000000</td>\n",
       "      <td>9704.000000</td>\n",
       "    </tr>\n",
       "    <tr>\n",
       "      <th>mean</th>\n",
       "      <td>199.708368</td>\n",
       "      <td>3.962481</td>\n",
       "      <td>149.657292</td>\n",
       "      <td>3001.280993</td>\n",
       "      <td>15.021928</td>\n",
       "      <td>2011.484027</td>\n",
       "      <td>-0.006412</td>\n",
       "      <td>14.985243</td>\n",
       "    </tr>\n",
       "    <tr>\n",
       "      <th>std</th>\n",
       "      <td>49.455319</td>\n",
       "      <td>1.999323</td>\n",
       "      <td>29.879555</td>\n",
       "      <td>497.894860</td>\n",
       "      <td>2.510339</td>\n",
       "      <td>6.659808</td>\n",
       "      <td>1.048162</td>\n",
       "      <td>2.556468</td>\n",
       "    </tr>\n",
       "    <tr>\n",
       "      <th>min</th>\n",
       "      <td>10.000000</td>\n",
       "      <td>0.000000</td>\n",
       "      <td>37.000000</td>\n",
       "      <td>952.681761</td>\n",
       "      <td>6.000000</td>\n",
       "      <td>2000.000000</td>\n",
       "      <td>-4.000000</td>\n",
       "      <td>6.200971</td>\n",
       "    </tr>\n",
       "    <tr>\n",
       "      <th>25%</th>\n",
       "      <td>170.000000</td>\n",
       "      <td>3.000000</td>\n",
       "      <td>130.000000</td>\n",
       "      <td>2666.248985</td>\n",
       "      <td>13.300000</td>\n",
       "      <td>2006.000000</td>\n",
       "      <td>-1.000000</td>\n",
       "      <td>13.267459</td>\n",
       "    </tr>\n",
       "    <tr>\n",
       "      <th>50%</th>\n",
       "      <td>200.000000</td>\n",
       "      <td>4.000000</td>\n",
       "      <td>149.000000</td>\n",
       "      <td>2993.226296</td>\n",
       "      <td>15.000000</td>\n",
       "      <td>2012.000000</td>\n",
       "      <td>0.000000</td>\n",
       "      <td>15.006037</td>\n",
       "    </tr>\n",
       "    <tr>\n",
       "      <th>75%</th>\n",
       "      <td>230.000000</td>\n",
       "      <td>5.000000</td>\n",
       "      <td>170.000000</td>\n",
       "      <td>3334.957039</td>\n",
       "      <td>16.700000</td>\n",
       "      <td>2017.000000</td>\n",
       "      <td>1.000000</td>\n",
       "      <td>16.707965</td>\n",
       "    </tr>\n",
       "    <tr>\n",
       "      <th>max</th>\n",
       "      <td>380.000000</td>\n",
       "      <td>13.000000</td>\n",
       "      <td>271.000000</td>\n",
       "      <td>4739.077089</td>\n",
       "      <td>24.300000</td>\n",
       "      <td>2023.000000</td>\n",
       "      <td>4.000000</td>\n",
       "      <td>25.967222</td>\n",
       "    </tr>\n",
       "  </tbody>\n",
       "</table>\n",
       "</div>"
      ],
      "text/plain": [
       "       engine_displacement  num_cylinders   horsepower  vehicle_weight  \\\n",
       "count          9704.000000    9222.000000  8996.000000     9704.000000   \n",
       "mean            199.708368       3.962481   149.657292     3001.280993   \n",
       "std              49.455319       1.999323    29.879555      497.894860   \n",
       "min              10.000000       0.000000    37.000000      952.681761   \n",
       "25%             170.000000       3.000000   130.000000     2666.248985   \n",
       "50%             200.000000       4.000000   149.000000     2993.226296   \n",
       "75%             230.000000       5.000000   170.000000     3334.957039   \n",
       "max             380.000000      13.000000   271.000000     4739.077089   \n",
       "\n",
       "       acceleration   model_year    num_doors  fuel_efficiency_mpg  \n",
       "count   8774.000000  9704.000000  9202.000000          9704.000000  \n",
       "mean      15.021928  2011.484027    -0.006412            14.985243  \n",
       "std        2.510339     6.659808     1.048162             2.556468  \n",
       "min        6.000000  2000.000000    -4.000000             6.200971  \n",
       "25%       13.300000  2006.000000    -1.000000            13.267459  \n",
       "50%       15.000000  2012.000000     0.000000            15.006037  \n",
       "75%       16.700000  2017.000000     1.000000            16.707965  \n",
       "max       24.300000  2023.000000     4.000000            25.967222  "
      ]
     },
     "execution_count": 80,
     "metadata": {},
     "output_type": "execute_result"
    }
   ],
   "source": [
    "df = pd.read_csv('https://raw.githubusercontent.com/alexeygrigorev/datasets/master/car_fuel_efficiency.csv')\n",
    "df.describe()"
   ]
  },
  {
   "cell_type": "code",
   "execution_count": 81,
   "id": "6e7c0903-150e-40b5-aaf0-c5801dd8ed06",
   "metadata": {},
   "outputs": [
    {
     "name": "stdout",
     "output_type": "stream",
     "text": [
      "<class 'pandas.core.frame.DataFrame'>\n",
      "RangeIndex: 9704 entries, 0 to 9703\n",
      "Data columns (total 11 columns):\n",
      " #   Column               Non-Null Count  Dtype  \n",
      "---  ------               --------------  -----  \n",
      " 0   engine_displacement  9704 non-null   int64  \n",
      " 1   num_cylinders        9222 non-null   float64\n",
      " 2   horsepower           8996 non-null   float64\n",
      " 3   vehicle_weight       9704 non-null   float64\n",
      " 4   acceleration         8774 non-null   float64\n",
      " 5   model_year           9704 non-null   int64  \n",
      " 6   origin               9704 non-null   object \n",
      " 7   fuel_type            9704 non-null   object \n",
      " 8   drivetrain           9704 non-null   object \n",
      " 9   num_doors            9202 non-null   float64\n",
      " 10  fuel_efficiency_mpg  9704 non-null   float64\n",
      "dtypes: float64(6), int64(2), object(3)\n",
      "memory usage: 834.1+ KB\n"
     ]
    }
   ],
   "source": [
    "df.info()"
   ]
  },
  {
   "cell_type": "code",
   "execution_count": 82,
   "id": "5ebc420d-4a54-47eb-b756-684dd0a0db0a",
   "metadata": {},
   "outputs": [
    {
     "name": "stdout",
     "output_type": "stream",
     "text": [
      "<class 'pandas.core.frame.DataFrame'>\n",
      "RangeIndex: 9704 entries, 0 to 9703\n",
      "Data columns (total 5 columns):\n",
      " #   Column               Non-Null Count  Dtype  \n",
      "---  ------               --------------  -----  \n",
      " 0   engine_displacement  9704 non-null   int64  \n",
      " 1   horsepower           8996 non-null   float64\n",
      " 2   vehicle_weight       9704 non-null   float64\n",
      " 3   model_year           9704 non-null   int64  \n",
      " 4   fuel_efficiency_mpg  9704 non-null   float64\n",
      "dtypes: float64(3), int64(2)\n",
      "memory usage: 379.2 KB\n"
     ]
    }
   ],
   "source": [
    "df = df[[\n",
    "    'engine_displacement',\n",
    "    'horsepower',\n",
    "    'vehicle_weight',\n",
    "    'model_year',\n",
    "    'fuel_efficiency_mpg'\n",
    "        ]]\n",
    "\n",
    "#Question 1\n",
    "#There's one column with missing values. What is it?\n",
    "df.info()\n",
    "#horsepower"
   ]
  },
  {
   "cell_type": "code",
   "execution_count": 83,
   "id": "64a98b8f-6435-4f6d-9912-06e044068ca0",
   "metadata": {},
   "outputs": [
    {
     "data": {
      "text/plain": [
       "np.float64(149.0)"
      ]
     },
     "execution_count": 83,
     "metadata": {},
     "output_type": "execute_result"
    }
   ],
   "source": [
    "#Question 2\n",
    "#What's the median (50% percentile) for variable 'horsepower'?\n",
    "df.horsepower.median()"
   ]
  },
  {
   "cell_type": "code",
   "execution_count": 84,
   "id": "db49d01a-a9af-41f8-aa4b-2cf2c76dc1dc",
   "metadata": {},
   "outputs": [],
   "source": [
    "#Prepare and split the dataset\n",
    "#    Shuffle the dataset (the filtered one you created above), use seed 42.\n",
    "#    Split your data in train/val/test sets, with 60%/20%/20% distribution.\n",
    "#Use the same code as in the lectures\n",
    "\n",
    "np.random.seed(42)\n",
    "n = len(df)\n",
    "n_val = n_test = int(n*.2)\n",
    "n_train = n - (n_val + n_test)\n",
    "np.random.shuffle(idx := np.arange(n))\n",
    "\n",
    "df_train = df.iloc[idx[:n_train]]\n",
    "df_val = df.iloc[idx[n_train:n_train+n_val]]\n",
    "df_test = df.iloc[idx[n_train+n_val:]]\n",
    "\n"
   ]
  },
  {
   "cell_type": "code",
   "execution_count": 85,
   "id": "c99fd2f2-f97a-4a98-b79e-884214e52dbb",
   "metadata": {},
   "outputs": [
    {
     "name": "stdout",
     "output_type": "stream",
     "text": [
      "(5824, 1940, 1940)\n",
      "9704\n",
      "9704\n"
     ]
    }
   ],
   "source": [
    "print((len(df_train), len(df_val), len(df_test)))\n",
    "print(sum((len(df_train), len(df_val), len(df_test))))\n",
    "print(len(df))"
   ]
  },
  {
   "cell_type": "code",
   "execution_count": 86,
   "id": "2ec3cec2-8abb-4175-92f7-f0573a401908",
   "metadata": {},
   "outputs": [],
   "source": [
    "y_train = df_train.fuel_efficiency_mpg.values; del df_train['fuel_efficiency_mpg']\n",
    "y_val = df_val.fuel_efficiency_mpg.values; del df_val['fuel_efficiency_mpg']\n",
    "y_test = df_test.fuel_efficiency_mpg.values; del df_test['fuel_efficiency_mpg']"
   ]
  },
  {
   "cell_type": "code",
   "execution_count": 87,
   "id": "9010f72e-c43c-4c3a-85a0-af0ceaa0608f",
   "metadata": {},
   "outputs": [
    {
     "data": {
      "text/plain": [
       "array([16.64294342, 16.29837715, 18.59182197, ..., 17.59323665,\n",
       "       18.92574819, 17.96528447], shape=(5824,))"
      ]
     },
     "execution_count": 87,
     "metadata": {},
     "output_type": "execute_result"
    }
   ],
   "source": [
    "y_train"
   ]
  },
  {
   "cell_type": "code",
   "execution_count": 88,
   "id": "e47cf82f-3fff-4ee1-a246-376fb56ea262",
   "metadata": {},
   "outputs": [
    {
     "data": {
      "text/plain": [
       "array([[ 220.        ,  144.        , 2535.88759124, 2009.        ],\n",
       "       [ 160.        ,  141.        , 2741.17048439, 2019.        ],\n",
       "       [ 230.        ,  155.        , 2471.88023726, 2017.        ],\n",
       "       ...,\n",
       "       [ 210.        ,  152.        , 2500.17568746, 2020.        ],\n",
       "       [ 250.        ,  154.        , 2254.31324473, 2002.        ],\n",
       "       [ 210.        ,  152.        , 2435.20360628, 2004.        ]],\n",
       "      shape=(5824, 4))"
      ]
     },
     "execution_count": 88,
     "metadata": {},
     "output_type": "execute_result"
    }
   ],
   "source": [
    "'''Question 3\n",
    "\n",
    "    We need to deal with missing values for the column from Q1.\n",
    "    We have two options: fill it with 0 or with the mean of this variable.\n",
    "'''\n",
    "\n",
    "ave_hp = df_train.horsepower.mean()\n",
    "\n",
    "df_train0 = df_train.fillna(0, inplace=False)\n",
    "df_trainA = df_train.fillna(ave_hp, inplace=False)\n",
    "df_test0 = df_test.fillna(0, inplace=False)\n",
    "df_testA = df_test.fillna(ave_hp, inplace=False)\n",
    "df_val0 = df_val.fillna(0, inplace=False)\n",
    "df_valA = df_val.fillna(ave_hp, inplace=False)\n",
    "\n",
    "X0 = df_train0.values\n",
    "XA = df_trainA.values\n",
    "\n",
    "\n",
    "#df_train0.info()\n",
    "X0"
   ]
  },
  {
   "cell_type": "code",
   "execution_count": 89,
   "id": "80aa63b0-37fd-4153-82bc-387be2f319bf",
   "metadata": {},
   "outputs": [],
   "source": [
    "'''\n",
    "    Try both options. For each, train a linear regression model without regularization using the code from the lessons.\n",
    "    For computing the mean, use the training only!\n",
    "'''\n",
    "\n",
    "def train_linear_regression(X, y):\n",
    "    X = np.column_stack([np.ones(X.shape[0]), X])\n",
    "\n",
    "    #XTX = X.T @ X\n",
    "    XTX = X.T.dot(X)\n",
    "    XTX_inv = np.linalg.inv(XTX)\n",
    "    #w_full = (XTX_inv @ X.T) @ y\n",
    "    w_full = XTX_inv.dot(X.T).dot(y)\n",
    "    return w_full \n",
    " \n",
    "def predict(X, w):\n",
    "    X = np.column_stack([np.ones(X.shape[0]), X])\n",
    "    return X.dot(w)\n",
    "\n",
    "def rmse(y, y_pred):\n",
    "    se = (y - y_pred) ** 2\n",
    "    mse = se.mean()\n",
    "    return np.sqrt(mse)"
   ]
  },
  {
   "cell_type": "code",
   "execution_count": 90,
   "id": "9a58672c-7e18-43b0-8c41-46a3c3874566",
   "metadata": {},
   "outputs": [
    {
     "name": "stdout",
     "output_type": "stream",
     "text": [
      "[ 2.88273655e+01  9.93613218e-05  3.54221891e-03 -5.01328015e-03\n",
      "  3.42992870e-04]\n",
      "136 1940\n",
      "4.03 4.03\n"
     ]
    }
   ],
   "source": [
    "'''\n",
    "Use the validation dataset to evaluate the models and compare the RMSE of each option.\n",
    "    Round the RMSE scores to 2 decimal digits using round(score, 2)\n",
    "    Which option gives better RMSE?\n",
    "'''\n",
    "\n",
    "w0 = train_linear_regression(X0, y_train)\n",
    "wA = train_linear_regression(XA, y_train)\n",
    "print(w0)\n",
    "\n",
    "y_pred0 = predict(df_val.values, w0)\n",
    "y_predA = predict(df_val.values, wA)\n",
    "print(np.isnan(y_pred0).sum(), len(y_pred0))\n",
    "y_pred0 = np.nan_to_num(y_pred0, nan=0)#np.nanmean(y_pred0))\n",
    "y_predA = np.nan_to_num(y_predA, nan=0)#np.nanmean(y_predA))\n",
    "\n",
    "\n",
    "rmse0 = rmse(y_val, y_pred0)\n",
    "rmseA = rmse(y_val, y_predA)\n",
    "\n",
    "print(round(rmse0, 2), round(rmseA, 2))"
   ]
  },
  {
   "cell_type": "code",
   "execution_count": 91,
   "id": "9c187161-ffa5-43da-a199-2dc1e3aae306",
   "metadata": {},
   "outputs": [
    {
     "name": "stdout",
     "output_type": "stream",
     "text": [
      "r =  0  -->  4.03\n",
      "r =  0.01  -->  4.03\n",
      "r =  0.1  -->  4.03\n",
      "r =  1  -->  4.03\n",
      "r =  5  -->  4.03\n",
      "r =  10  -->  4.03\n",
      "r =  100  -->  4.03\n"
     ]
    }
   ],
   "source": [
    "'''\n",
    "Question 4\n",
    "\n",
    "    Now let's train a regularized linear regression.\n",
    "    For this question, fill the NAs with 0.\n",
    "    Try different values of r from this list: [0, 0.01, 0.1, 1, 5, 10, 100].\n",
    "    Use RMSE to evaluate the model on the validation dataset.\n",
    "    Round the RMSE scores to 2 decimal digits.\n",
    "    Which r gives the best RMSE?\n",
    "\n",
    "If multiple options give the same best RMSE, select the smallest r.\n",
    "'''\n",
    "\n",
    "def train_linear_regression_reg(X, y, r=0.001):\n",
    "    X = np.column_stack([np.ones(X.shape[0]), X])\n",
    "    \n",
    "    XTX = X.T.dot( X)\n",
    "    XTX = XTX + r * np.eye(XTX.shape[0])\n",
    "    XTX_inv = np.linalg.inv(XTX)\n",
    "    w_full = XTX_inv.dot( X.T).dot(y)\n",
    "    return w_full \n",
    "\n",
    "for r in [0, 0.01, 0.1, 1, 5, 10, 100]:\n",
    "    w0 = train_linear_regression_reg(X0, y_train, r)\n",
    "    \n",
    "    y_pred0 = predict(df_val.values, w0)\n",
    " #   print(np.isnan(y_pred0).sum(), len(y_pred0))\n",
    "    y_pred0 = np.nan_to_num(y_pred0, nan=0)#np.nanmean(y_pred0))\n",
    "        \n",
    "    print('r = ', r, ' --> ', round(rmse(y_val, y_pred0), 2))\n",
    "   \n",
    "\n",
    "\n",
    "\n"
   ]
  },
  {
   "cell_type": "code",
   "execution_count": 92,
   "id": "32f404db-cfd7-45a9-b950-3423da6b8031",
   "metadata": {},
   "outputs": [],
   "source": [
    "'''\n",
    "Question 5\n",
    "\n",
    "    We used seed 42 for splitting the data. Let's find out how selecting the seed influences our score.\n",
    "    Try different seed values: [0, 1, 2, 3, 4, 5, 6, 7, 8, 9].\n",
    "    For each seed, do the train/validation/test split with 60%/20%/20% distribution.\n",
    "    Fill the missing values with 0 and train a model without regularization.\n",
    "    For each seed, evaluate the model on the validation dataset and collect the RMSE scores.\n",
    "    What's the standard deviation of all the scores? To compute the standard deviation, use np.std.\n",
    "    Round the result to 3 decimal digits (round(std, 3))\n",
    "\n",
    "df = pd.read_csv('https://raw.githubusercontent.com/alexeygrigorev/datasets/master/car_fuel_efficiency.csv')\n",
    "\n",
    "df = df[[\n",
    "    'engine_displacement',\n",
    "    'horsepower',\n",
    "    'vehicle_weight',\n",
    "    'model_year',\n",
    "    'fuel_efficiency_mpg'\n",
    "        ]]\n",
    "\n",
    "\n",
    "\n",
    "n = len(df)\n",
    "n_val = n_test = int(n*.2)\n",
    "n_train = n - (n_val + n_test)\n",
    "'''\n",
    "\n",
    "def sow(seed):\n",
    "    np.random.seed(seed)\n",
    "    np.random.shuffle(idx := np.arange(n))\n",
    "    #print(idx[:6])\n",
    "    df_train = df.iloc[idx[:n_train]]\n",
    "    df_val = df.iloc[idx[n_train:n_train+n_val]]\n",
    "    df_test = df.iloc[idx[n_train+n_val:]]\n",
    "\n",
    "    return df_train, df_val, df_test\n",
    "\n",
    "\n",
    "\n",
    "def cultivate(seeds, r = 0):\n",
    "    rmses = []\n",
    "    for seed in seeds:\n",
    "        df_train, df_val, df_test = sow(seed)\n",
    "        \n",
    "        y_train = df_train.fuel_efficiency_mpg.values; del df_train['fuel_efficiency_mpg']\n",
    "        y_val = df_val.fuel_efficiency_mpg.values; del df_val['fuel_efficiency_mpg']\n",
    "        y_test = df_test.fuel_efficiency_mpg.values; del df_test['fuel_efficiency_mpg']\n",
    "    \n",
    "        df_train0 = df_train.fillna(0, inplace=False)\n",
    "        df_test0 = df_test.fillna(0, inplace=False)\n",
    "        df_val0 = df_val.fillna(0, inplace=False)\n",
    "    \n",
    "        X0 = df_train0.values\n",
    "\n",
    "        w0 = train_linear_regression_reg(X0, y_train, r)\n",
    "\n",
    "\n",
    "        y_pred0 = predict(df_val.values, w0)\n",
    "        #print(np.isnan(y_pred0).sum(), len(y_pred0))\n",
    "        y_pred0 = np.nan_to_num(y_pred0, nan=0)#np.nanmean(y_pred0))\n",
    "        \n",
    "        print(rmse(y_val, y_pred0))\n",
    "        rmses.append(rmse(y_val, y_pred0))\n",
    "\n",
    "\n",
    "    return rmses\n",
    "\n",
    "\n",
    "\n"
   ]
  },
  {
   "cell_type": "code",
   "execution_count": 93,
   "id": "bc31bee6-aa8a-49f4-96d7-f8d80fd46ed4",
   "metadata": {},
   "outputs": [
    {
     "name": "stdout",
     "output_type": "stream",
     "text": [
      "4.115363569087568\n",
      "4.0205487806355515\n",
      "4.034964418667787\n",
      "4.239725265476986\n",
      "4.056847484026755\n",
      "4.148705656727751\n",
      "4.1908952458782815\n",
      "3.892524555387156\n",
      "4.18874290991515\n",
      "4.014237971474517\n",
      "0.100062276678094\n"
     ]
    }
   ],
   "source": [
    "seeds = [0, 1, 2, 3, 4, 5, 6, 7, 8, 9]\n",
    "\n",
    "print(np.std(cultivate(seeds)))"
   ]
  },
  {
   "cell_type": "code",
   "execution_count": 94,
   "id": "47a91034-9420-4916-8f92-438775d8fbcb",
   "metadata": {},
   "outputs": [
    {
     "name": "stdout",
     "output_type": "stream",
     "text": [
      "0.5156261299169602\n"
     ]
    }
   ],
   "source": [
    "'''\n",
    "Question 6\n",
    "\n",
    "    Split the dataset like previously, use seed 9.\n",
    "    Combine train and validation datasets.\n",
    "    Fill the missing values with 0 and train a model with r=0.001.\n",
    "    What's the RMSE on the test dataset?\n",
    "\n",
    "'''\n",
    "df_train, df_val, df_test = sow(9)\n",
    "\n",
    "df_new_train = pd.concat([df_train, df_val])\n",
    "\n",
    "df_new_train0 = df_new_train.fillna(0, inplace=False)\n",
    "y_new_train = df_new_train0.fuel_efficiency_mpg.values; del df_new_train0['fuel_efficiency_mpg']\n",
    "y_test = df_test.fuel_efficiency_mpg.values; del df_test['fuel_efficiency_mpg']\n",
    "\n",
    "df_test0 = df_test.fillna(0, inplace=False)\n",
    " \n",
    "X0 = df_new_train0.values\n",
    "\n",
    "w0 = train_linear_regression_reg(X0, y_new_train, 0.001)\n",
    "\n",
    "\n",
    "y_pred0 = predict(df_test0.values, w0)\n",
    "#print(np.isnan(y_pred0).sum(), len(y_pred0))\n",
    "y_pred0 = np.nan_to_num(y_pred0, nan=0)#np.nanmean(y_pred0))\n",
    "\n",
    "print(rmse(y_test, y_pred0))\n",
    " "
   ]
  },
  {
   "cell_type": "code",
   "execution_count": null,
   "id": "1ec93309-9254-4711-8e0c-7df1f3133a5d",
   "metadata": {},
   "outputs": [],
   "source": []
  }
 ],
 "metadata": {
  "kernelspec": {
   "display_name": "Python 3 (ipykernel)",
   "language": "python",
   "name": "python3"
  },
  "language_info": {
   "codemirror_mode": {
    "name": "ipython",
    "version": 3
   },
   "file_extension": ".py",
   "mimetype": "text/x-python",
   "name": "python",
   "nbconvert_exporter": "python",
   "pygments_lexer": "ipython3",
   "version": "3.12.1"
  }
 },
 "nbformat": 4,
 "nbformat_minor": 5
}
